{
 "cells": [
  {
   "cell_type": "code",
   "execution_count": 4,
   "metadata": {},
   "outputs": [
    {
     "name": "stdout",
     "output_type": "stream",
     "text": [
      "1.13.3\n"
     ]
    }
   ],
   "source": [
    "# importing Numpy\n",
    "import numpy as np\n",
    "\n",
    "print (np.__version__)               # this prints the version of the numpy\n",
    "\n",
    "#np.show_config()                    # this prints  or shows the config of numpy"
   ]
  },
  {
   "cell_type": "code",
   "execution_count": null,
   "metadata": {},
   "outputs": [],
   "source": [
    "#printing zero matrix\n",
    "s= np.zeros(5)\n",
    "z= np.zeros([3,5])\n",
    "print(s)\n",
    "print(z)"
   ]
  },
  {
   "cell_type": "code",
   "execution_count": 57,
   "metadata": {},
   "outputs": [
    {
     "name": "stdout",
     "output_type": "stream",
     "text": [
      "(3, 5)\n",
      "(3, 5)\n",
      "8\n",
      "float64\n",
      "2\n",
      "[[ 0.  0.  0.  0.  0.]\n",
      " [ 0.  0.  0.  0.  0.]\n",
      " [ 0.  0.  0.  0.  0.]]\n",
      "120 bytes\n"
     ]
    }
   ],
   "source": [
    "# print shape of a matrix\n",
    "print(z.shape)\n",
    "\n",
    "# print no. of elements\n",
    "print(z.shape)\n",
    "\n",
    "#print size of each elelment\n",
    "print(z.itemsize)\n",
    "\n",
    "#print datatype of matrix\n",
    "print(z.dtype)\n",
    "\n",
    "#print dimension of a matrix\n",
    "print(z.ndim)\n",
    "\n",
    "#reshaping a matri(no of elements should match)\n",
    "z.reshape(5,3)\n",
    "print(z)\n",
    "\n",
    "\n",
    "#PRINTING MEMORY SIZE OF A MATRIX\n",
    "print(\"%d bytes\" %(z.size* z.itemsize)) \n"
   ]
  },
  {
   "cell_type": "code",
   "execution_count": 6,
   "metadata": {},
   "outputs": [
    {
     "name": "stdout",
     "output_type": "stream",
     "text": [
      "[2 3 4 5 6 7 8]\n",
      "arange with reshape\n",
      "[[ 0  1  2  3  4  5]\n",
      " [ 6  7  8  9 10 11]\n",
      " [12 13 14 15 16 17]]\n",
      "   MATRIX   \n",
      "[[ 0  1  2  3]\n",
      " [ 4  5  6  7]\n",
      " [ 8  9 10 11]]\n"
     ]
    }
   ],
   "source": [
    "#CREATING VECTORS\n",
    "a1=np.arange(2,9)\n",
    "print(a1)\n",
    "\n",
    "x3= np.arange(18).reshape(3,6)\n",
    "print(\"arange with reshape\")\n",
    "print(x3)\n",
    "\n",
    "#CREATING A MATRIX\n",
    "print(\"   MATRIX   \")\n",
    "a2= np.arange(12)\n",
    "a2=a2.reshape(3,4)\n",
    "print(a2)"
   ]
  },
  {
   "cell_type": "code",
   "execution_count": 39,
   "metadata": {},
   "outputs": [
    {
     "name": "stdout",
     "output_type": "stream",
     "text": [
      "[[ 8  9 10 11]\n",
      " [ 4  5  6  7]\n",
      " [ 0  1  2  3]]\n"
     ]
    }
   ],
   "source": [
    "#Reversing the matrix\n",
    "a = a2 # remember chages needs to be saved  other wise they are lost (numpy view look)\n",
    "a= a[::-1]\n",
    "print(a)"
   ]
  },
  {
   "cell_type": "code",
   "execution_count": 43,
   "metadata": {},
   "outputs": [
    {
     "name": "stdout",
     "output_type": "stream",
     "text": [
      "[[ 1.  0.  0.]\n",
      " [ 0.  1.  0.]\n",
      " [ 0.  0.  1.]]\n"
     ]
    }
   ],
   "source": [
    "#making a in=dentical matrix\n",
    "iden= np.eye(3)\n",
    "print(iden)"
   ]
  },
  {
   "cell_type": "code",
   "execution_count": 49,
   "metadata": {},
   "outputs": [
    {
     "data": {
      "text/plain": [
       "(11, 0, 5.5, 3.4520525295346629)"
      ]
     },
     "execution_count": 49,
     "metadata": {},
     "output_type": "execute_result"
    }
   ],
   "source": [
    "#FINDING MAX,MIN,MEAN,STD OF A MATRIX\n",
    "a.max(),a.min(),a.mean(),a.std()\n"
   ]
  },
  {
   "cell_type": "code",
   "execution_count": 63,
   "metadata": {},
   "outputs": [
    {
     "name": "stdout",
     "output_type": "stream",
     "text": [
      "random 30 \n",
      "[ 0.21192311  0.82957251  0.91917284  0.55678821  0.07507897  0.15588682\n",
      "  0.38740569  0.65584362  0.13097225  0.35158857  0.00699983  0.90212585\n",
      "  0.54641185  0.32920389  0.5001179   0.32815656  0.66451476  0.69648921\n",
      "  0.94879892  0.09181699  0.52698939  0.94227871  0.41010882  0.62335872\n",
      "  0.51443766  0.03578491  0.75916916  0.26598822  0.40294611  0.18094525]\n",
      "random 3x3 matrix \n",
      "[[ 0.34718501  0.11896689  0.54375326]\n",
      " [ 0.48227313  0.19914625  0.83975837]\n",
      " [ 0.1860705   0.24849519  0.69142289]]\n",
      "random 3x3x3\n",
      "[[[ 0.69292098  0.89414958  0.6590756 ]\n",
      "  [ 0.66422677  0.5651913   0.21081127]\n",
      "  [ 0.91476574  0.6445105   0.73069175]]\n",
      "\n",
      " [[ 0.44560996  0.71626859  0.83214018]\n",
      "  [ 0.06654657  0.71430577  0.13971332]\n",
      "  [ 0.9209538   0.30522526  0.9838162 ]]\n",
      "\n",
      " [[ 0.28106479  0.14568827  0.75181071]\n",
      "  [ 0.68803402  0.0766066   0.6756939 ]\n",
      "  [ 0.66991303  0.87729433  0.69703197]]]\n"
     ]
    }
   ],
   "source": [
    "#using random to gnrate matrix\n",
    "q1=np.random.random(30)\n",
    "q2=np.random.random((3,3))#3x3 matrix\n",
    "q3=np.random.random((3,3,3))\n",
    "\n",
    "print(\"random 30 \")\n",
    "print(q1)\n",
    "print(\"random 3x3 matrix \")\n",
    "print(q2)\n",
    "print(\"random 3x3x3\")\n",
    "print(q3)\n"
   ]
  },
  {
   "cell_type": "code",
   "execution_count": null,
   "metadata": {},
   "outputs": [],
   "source": []
  },
  {
   "cell_type": "code",
   "execution_count": null,
   "metadata": {},
   "outputs": [],
   "source": []
  }
 ],
 "metadata": {
  "kernelspec": {
   "display_name": "Python 3",
   "language": "python",
   "name": "python3"
  },
  "language_info": {
   "codemirror_mode": {
    "name": "ipython",
    "version": 3
   },
   "file_extension": ".py",
   "mimetype": "text/x-python",
   "name": "python",
   "nbconvert_exporter": "python",
   "pygments_lexer": "ipython3",
   "version": "3.6.5"
  }
 },
 "nbformat": 4,
 "nbformat_minor": 2
}
