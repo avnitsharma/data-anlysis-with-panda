{
 "cells": [
  {
   "cell_type": "code",
   "execution_count": 3,
   "metadata": {},
   "outputs": [],
   "source": [
    "import datetime as dt\n",
    "import numpy as np\n",
    "import pandas as pd\n",
    "import pandas_datareader.data as web \n",
    "import quandl\n",
    "\n",
    "\n",
    "import matplotlib.pyplot as plt\n",
    "from matplotlib import style"
   ]
  },
  {
   "cell_type": "code",
   "execution_count": 33,
   "metadata": {},
   "outputs": [],
   "source": [
    "style.use('ggplot')"
   ]
  },
  {
   "cell_type": "code",
   "execution_count": 5,
   "metadata": {},
   "outputs": [],
   "source": [
    "quandl.ApiConfig.api_key = 'jD-cKoE-gdzKyzyAfqBN'\n",
    "df= quandl.get('NSE/infy', start_date='2000-01-13', end_date='2018-06-13')"
   ]
  },
  {
   "cell_type": "code",
   "execution_count": 23,
   "metadata": {},
   "outputs": [
    {
     "name": "stdout",
     "output_type": "stream",
     "text": [
      "              Open    High     Low    Last    Close  Total Trade Quantity  \\\n",
      "Date                                                                        \n",
      "2011-06-29  2868.0  2907.0  2868.0  2880.0  2881.75              600094.0   \n",
      "\n",
      "            Turnover (Lacs)  150sma  200sma  \n",
      "Date                                         \n",
      "2011-06-29         17320.05     NaN     NaN  \n"
     ]
    }
   ],
   "source": [
    "print(df.head(1))"
   ]
  },
  {
   "cell_type": "code",
   "execution_count": 7,
   "metadata": {},
   "outputs": [],
   "source": [
    "#covertinfg your database to a csv file\n",
    "df.to_csv('IBULISL')"
   ]
  },
  {
   "cell_type": "code",
   "execution_count": 22,
   "metadata": {},
   "outputs": [
    {
     "data": {
      "text/html": [
       "<div>\n",
       "<style scoped>\n",
       "    .dataframe tbody tr th:only-of-type {\n",
       "        vertical-align: middle;\n",
       "    }\n",
       "\n",
       "    .dataframe tbody tr th {\n",
       "        vertical-align: top;\n",
       "    }\n",
       "\n",
       "    .dataframe thead th {\n",
       "        text-align: right;\n",
       "    }\n",
       "</style>\n",
       "<table border=\"1\" class=\"dataframe\">\n",
       "  <thead>\n",
       "    <tr style=\"text-align: right;\">\n",
       "      <th></th>\n",
       "      <th>Date</th>\n",
       "      <th>Open</th>\n",
       "      <th>High</th>\n",
       "      <th>Low</th>\n",
       "      <th>Last</th>\n",
       "      <th>Close</th>\n",
       "      <th>Total Trade Quantity</th>\n",
       "      <th>Turnover (Lacs)</th>\n",
       "    </tr>\n",
       "  </thead>\n",
       "  <tbody>\n",
       "    <tr>\n",
       "      <th>0</th>\n",
       "      <td>2011-06-29</td>\n",
       "      <td>2868.00</td>\n",
       "      <td>2907.00</td>\n",
       "      <td>2868.0</td>\n",
       "      <td>2880.0</td>\n",
       "      <td>2881.75</td>\n",
       "      <td>600094.0</td>\n",
       "      <td>17320.05</td>\n",
       "    </tr>\n",
       "    <tr>\n",
       "      <th>1</th>\n",
       "      <td>2011-06-30</td>\n",
       "      <td>2886.05</td>\n",
       "      <td>2919.00</td>\n",
       "      <td>2881.5</td>\n",
       "      <td>2903.1</td>\n",
       "      <td>2910.45</td>\n",
       "      <td>1417730.0</td>\n",
       "      <td>41163.32</td>\n",
       "    </tr>\n",
       "    <tr>\n",
       "      <th>2</th>\n",
       "      <td>2011-07-01</td>\n",
       "      <td>2935.00</td>\n",
       "      <td>2969.95</td>\n",
       "      <td>2924.1</td>\n",
       "      <td>2928.0</td>\n",
       "      <td>2934.15</td>\n",
       "      <td>800308.0</td>\n",
       "      <td>23549.85</td>\n",
       "    </tr>\n",
       "    <tr>\n",
       "      <th>3</th>\n",
       "      <td>2011-07-04</td>\n",
       "      <td>2966.65</td>\n",
       "      <td>2977.00</td>\n",
       "      <td>2935.0</td>\n",
       "      <td>2941.0</td>\n",
       "      <td>2938.95</td>\n",
       "      <td>514324.0</td>\n",
       "      <td>15162.29</td>\n",
       "    </tr>\n",
       "  </tbody>\n",
       "</table>\n",
       "</div>"
      ],
      "text/plain": [
       "         Date     Open     High     Low    Last    Close  \\\n",
       "0  2011-06-29  2868.00  2907.00  2868.0  2880.0  2881.75   \n",
       "1  2011-06-30  2886.05  2919.00  2881.5  2903.1  2910.45   \n",
       "2  2011-07-01  2935.00  2969.95  2924.1  2928.0  2934.15   \n",
       "3  2011-07-04  2966.65  2977.00  2935.0  2941.0  2938.95   \n",
       "\n",
       "   Total Trade Quantity  Turnover (Lacs)  \n",
       "0              600094.0         17320.05  \n",
       "1             1417730.0         41163.32  \n",
       "2              800308.0         23549.85  \n",
       "3              514324.0         15162.29  "
      ]
     },
     "execution_count": 22,
     "metadata": {},
     "output_type": "execute_result"
    }
   ],
   "source": [
    "#READ A CSV FILE\n",
    "DF= pd.read_csv('IBULISL')\n",
    "DF.head(4)#NOW LETS REMOVE THE INDEX AND MAKE THE DATE THE INDEX"
   ]
  },
  {
   "cell_type": "code",
   "execution_count": 21,
   "metadata": {},
   "outputs": [
    {
     "data": {
      "text/html": [
       "<div>\n",
       "<style scoped>\n",
       "    .dataframe tbody tr th:only-of-type {\n",
       "        vertical-align: middle;\n",
       "    }\n",
       "\n",
       "    .dataframe tbody tr th {\n",
       "        vertical-align: top;\n",
       "    }\n",
       "\n",
       "    .dataframe thead th {\n",
       "        text-align: right;\n",
       "    }\n",
       "</style>\n",
       "<table border=\"1\" class=\"dataframe\">\n",
       "  <thead>\n",
       "    <tr style=\"text-align: right;\">\n",
       "      <th></th>\n",
       "      <th>Open</th>\n",
       "      <th>High</th>\n",
       "      <th>Low</th>\n",
       "      <th>Last</th>\n",
       "      <th>Close</th>\n",
       "      <th>Total Trade Quantity</th>\n",
       "      <th>Turnover (Lacs)</th>\n",
       "    </tr>\n",
       "    <tr>\n",
       "      <th>Date</th>\n",
       "      <th></th>\n",
       "      <th></th>\n",
       "      <th></th>\n",
       "      <th></th>\n",
       "      <th></th>\n",
       "      <th></th>\n",
       "      <th></th>\n",
       "    </tr>\n",
       "  </thead>\n",
       "  <tbody>\n",
       "    <tr>\n",
       "      <th>2011-06-29</th>\n",
       "      <td>2868.00</td>\n",
       "      <td>2907.00</td>\n",
       "      <td>2868.0</td>\n",
       "      <td>2880.0</td>\n",
       "      <td>2881.75</td>\n",
       "      <td>600094.0</td>\n",
       "      <td>17320.05</td>\n",
       "    </tr>\n",
       "    <tr>\n",
       "      <th>2011-06-30</th>\n",
       "      <td>2886.05</td>\n",
       "      <td>2919.00</td>\n",
       "      <td>2881.5</td>\n",
       "      <td>2903.1</td>\n",
       "      <td>2910.45</td>\n",
       "      <td>1417730.0</td>\n",
       "      <td>41163.32</td>\n",
       "    </tr>\n",
       "    <tr>\n",
       "      <th>2011-07-01</th>\n",
       "      <td>2935.00</td>\n",
       "      <td>2969.95</td>\n",
       "      <td>2924.1</td>\n",
       "      <td>2928.0</td>\n",
       "      <td>2934.15</td>\n",
       "      <td>800308.0</td>\n",
       "      <td>23549.85</td>\n",
       "    </tr>\n",
       "    <tr>\n",
       "      <th>2011-07-04</th>\n",
       "      <td>2966.65</td>\n",
       "      <td>2977.00</td>\n",
       "      <td>2935.0</td>\n",
       "      <td>2941.0</td>\n",
       "      <td>2938.95</td>\n",
       "      <td>514324.0</td>\n",
       "      <td>15162.29</td>\n",
       "    </tr>\n",
       "  </tbody>\n",
       "</table>\n",
       "</div>"
      ],
      "text/plain": [
       "               Open     High     Low    Last    Close  Total Trade Quantity  \\\n",
       "Date                                                                          \n",
       "2011-06-29  2868.00  2907.00  2868.0  2880.0  2881.75              600094.0   \n",
       "2011-06-30  2886.05  2919.00  2881.5  2903.1  2910.45             1417730.0   \n",
       "2011-07-01  2935.00  2969.95  2924.1  2928.0  2934.15              800308.0   \n",
       "2011-07-04  2966.65  2977.00  2935.0  2941.0  2938.95              514324.0   \n",
       "\n",
       "            Turnover (Lacs)  \n",
       "Date                         \n",
       "2011-06-29         17320.05  \n",
       "2011-06-30         41163.32  \n",
       "2011-07-01         23549.85  \n",
       "2011-07-04         15162.29  "
      ]
     },
     "execution_count": 21,
     "metadata": {},
     "output_type": "execute_result"
    }
   ],
   "source": [
    "DF= pd.read_csv('IBULISL',parse_dates=True, index_col =0)\n",
    "DF.head(4)"
   ]
  },
  {
   "cell_type": "code",
   "execution_count": 10,
   "metadata": {},
   "outputs": [
    {
     "data": {
      "text/plain": [
       "<matplotlib.axes._subplots.AxesSubplot at 0x1bbc6f34e10>"
      ]
     },
     "execution_count": 10,
     "metadata": {},
     "output_type": "execute_result"
    },
    {
     "data": {
      "image/png": "[encoded data removed]",
      "text/plain": [
       "<Figure size 432x288 with 1 Axes>"
      ]
     },
     "metadata": {},
     "output_type": "display_data"
    }
   ],
   "source": [
    "df['Total Trade Quantity'].plot()"
   ]
  },
  {
   "cell_type": "code",
   "execution_count": 17,
   "metadata": {},
   "outputs": [],
   "source": [
    "#writing a 150 days sma\n",
    "df['150sma']=df['Close'].rolling(window=150).mean()\n",
    "df['200sma']=df['Close'].rolling(window=200).mean()\n",
    "#df[['Close','150sma','200sma']].plot()\n",
    "#df.tail(4)"
   ]
  },
  {
   "cell_type": "code",
   "execution_count": 30,
   "metadata": {},
   "outputs": [
    {
     "data": {
      "image/png": "[encoded data removed]",
      "text/plain": [
       "<Figure size 432x288 with 2 Axes>"
      ]
     },
     "metadata": {},
     "output_type": "display_data"
    }
   ],
   "source": [
    "ax1= plt.subplot2grid((6,1),(0,0), rowspan=5, colspan=1)\n",
    "ax2= plt.subplot2grid((6,1),(5,0), rowspan=1, colspan=1)\n"
   ]
  },
  {
   "cell_type": "code",
   "execution_count": 32,
   "metadata": {},
   "outputs": [
    {
     "data": {
      "text/plain": [
       "[<matplotlib.lines.Line2D at 0x1bbca5bcb38>]"
      ]
     },
     "execution_count": 32,
     "metadata": {},
     "output_type": "execute_result"
    }
   ],
   "source": [
    "ax1.plot(df['Close'])\n",
    "ax1.plot(df['150sma'])\n"
   ]
  },
  {
   "cell_type": "code",
   "execution_count": null,
   "metadata": {},
   "outputs": [],
   "source": []
  },
  {
   "cell_type": "code",
   "execution_count": null,
   "metadata": {},
   "outputs": [],
   "source": []
  }
 ],
 "metadata": {
  "kernelspec": {
   "display_name": "Python 3",
   "language": "python",
   "name": "python3"
  },
  "language_info": {
   "codemirror_mode": {
    "name": "ipython",
    "version": 3
   },
   "file_extension": ".py",
   "mimetype": "text/x-python",
   "name": "python",
   "nbconvert_exporter": "python",
   "pygments_lexer": "ipython3",
   "version": "3.6.5"
  }
 },
 "nbformat": 4,
 "nbformat_minor": 2
}
